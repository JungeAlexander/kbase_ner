{
 "cells": [
  {
   "cell_type": "code",
   "execution_count": null,
   "id": "referenced-repository",
   "metadata": {},
   "outputs": [],
   "source": [
    "import bz2\n",
    "import json"
   ]
  },
  {
   "cell_type": "code",
   "execution_count": null,
   "id": "starting-isolation",
   "metadata": {},
   "outputs": [],
   "source": [
    "with bz2.open(\"run-DataSink0-1-part-r-00000.bz2\", \"rt\") as fin, \\\n",
    "    open(\"run-DataSink0-1-part-r-00000.manifest\", \"wt\") as fout:\n",
    "    for line in fin:\n",
    "        j = json.loads(line)\n",
    "        t = j[\"parsed_text\"]\n",
    "        example = \"\"\n",
    "        sep = \"\"\n",
    "        for sentence in t.split(\"\\n\"):\n",
    "            if sentence == \"Episode transcript:\":\n",
    "                break\n",
    "            #sentence = sentence.replace('\"', '\\\\\"')\n",
    "            example += sep + sentence\n",
    "            # sep = \"<br/>\"\n",
    "            sep = \"\\n\"\n",
    "        d = {\"source\": example}\n",
    "        fout.write(json.dumps(d) + \"\\n\")"
   ]
  }
 ],
 "metadata": {
  "kernelspec": {
   "display_name": "Python 3",
   "language": "python",
   "name": "python3"
  },
  "language_info": {
   "codemirror_mode": {
    "name": "ipython",
    "version": 3
   },
   "file_extension": ".py",
   "mimetype": "text/x-python",
   "name": "python",
   "nbconvert_exporter": "python",
   "pygments_lexer": "ipython3",
   "version": "3.8.2"
  }
 },
 "nbformat": 4,
 "nbformat_minor": 5
}
