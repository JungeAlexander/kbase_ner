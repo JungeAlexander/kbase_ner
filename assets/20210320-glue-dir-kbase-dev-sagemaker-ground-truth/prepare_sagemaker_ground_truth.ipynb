{
 "cells": [
  {
   "cell_type": "code",
   "execution_count": null,
   "id": "referenced-repository",
   "metadata": {},
   "outputs": [],
   "source": [
    "import bz2\n",
    "import json\n",
    "from pathlib import Path"
   ]
  },
  {
   "cell_type": "code",
   "execution_count": null,
   "id": "crazy-treasurer",
   "metadata": {},
   "outputs": [],
   "source": [
    "input_dir = Path(\"glue-dir-kbase-dev/kbase/public/documents/\")"
   ]
  },
  {
   "cell_type": "code",
   "execution_count": null,
   "id": "independent-boutique",
   "metadata": {},
   "outputs": [],
   "source": [
    "with open(\"20210320-glue-dir-kbase-dev.manifest\", \"wt\") as fout:\n",
    "    for input_file in input_dir.glob(\"*.bz2\"):\n",
    "        print(input_file)\n",
    "        with bz2.open(input_file, \"rt\") as fin:\n",
    "            for line in fin:\n",
    "                j = json.loads(line)\n",
    "                t = j[\"parsed_text\"]\n",
    "                example = \"\"\n",
    "                sep = \"\"\n",
    "                for sentence in t.split(\"\\n\"):\n",
    "                    if sentence == \"Episode transcript:\":\n",
    "                        break\n",
    "                    example += sep + sentence\n",
    "                    sep = \"\\n\"\n",
    "                d = {\"source\": example}\n",
    "                fout.write(json.dumps(d) + \"\\n\")"
   ]
  }
 ],
 "metadata": {
  "kernelspec": {
   "display_name": "Python 3",
   "language": "python",
   "name": "python3"
  },
  "language_info": {
   "codemirror_mode": {
    "name": "ipython",
    "version": 3
   },
   "file_extension": ".py",
   "mimetype": "text/x-python",
   "name": "python",
   "nbconvert_exporter": "python",
   "pygments_lexer": "ipython3",
   "version": "3.8.2"
  }
 },
 "nbformat": 4,
 "nbformat_minor": 5
}
