{
 "cells": [
  {
   "cell_type": "markdown",
   "id": "british-serve",
   "metadata": {},
   "source": [
    "# Load SageMaker GroundTruth annotation"
   ]
  },
  {
   "cell_type": "markdown",
   "id": "quality-complexity",
   "metadata": {},
   "source": [
    "## Load task manifest file mapping text sample IDs to text"
   ]
  },
  {
   "cell_type": "code",
   "execution_count": null,
   "id": "roman-management",
   "metadata": {},
   "outputs": [],
   "source": [
    "import json\n",
    "from pathlib import Path"
   ]
  },
  {
   "cell_type": "code",
   "execution_count": null,
   "id": "simplified-failing",
   "metadata": {},
   "outputs": [],
   "source": [
    "manifest_path = Path(\"annotations/glue-dir-kbase-dev-sagemaker-ground-truth-labeling-clone/annotations/intermediate/1/annotations.manifest\")"
   ]
  },
  {
   "cell_type": "code",
   "execution_count": null,
   "id": "sunset-infection",
   "metadata": {},
   "outputs": [],
   "source": [
    "assert manifest_path.is_file()"
   ]
  },
  {
   "cell_type": "code",
   "execution_count": null,
   "id": "bound-adapter",
   "metadata": {},
   "outputs": [],
   "source": [
    "index_to_text = {}"
   ]
  },
  {
   "cell_type": "code",
   "execution_count": null,
   "id": "brown-scheme",
   "metadata": {},
   "outputs": [],
   "source": [
    "with open(manifest_path, \"rt\") as fin:\n",
    "    for line in fin:\n",
    "        columns = line.split(\"\\t\")\n",
    "        index = int(columns[0])\n",
    "        text = \"\\t\".join(columns[1:-1])\n",
    "        _ = columns[-1]  # no idea what this column is\n",
    "        assert index not in index_to_text\n",
    "        index_to_text[index] = text"
   ]
  },
  {
   "cell_type": "markdown",
   "id": "narrative-asthma",
   "metadata": {},
   "source": [
    "## Load annotation for given sample text IDs "
   ]
  },
  {
   "cell_type": "code",
   "execution_count": null,
   "id": "mechanical-southeast",
   "metadata": {},
   "outputs": [],
   "source": [
    "annotations_dir = Path(\"annotations/glue-dir-kbase-dev-sagemaker-ground-truth-labeling-clone/annotations/worker-response/iteration-1/\")"
   ]
  },
  {
   "cell_type": "code",
   "execution_count": null,
   "id": "frequent-nudist",
   "metadata": {},
   "outputs": [],
   "source": [
    "assert annotations_dir.is_dir()"
   ]
  },
  {
   "cell_type": "code",
   "execution_count": null,
   "id": "caring-police",
   "metadata": {},
   "outputs": [],
   "source": [
    "for annotations_subdir in annotations_dir.iterdir():\n",
    "    index = int(annotations_subdir.name)\n",
    "    for i, annotations_file in enumerate(annotations_subdir.iterdir()):\n",
    "        assert i == 0, f\"found more than one annotation in {annotations_subdir}\"\n",
    "        with open(annotations_file, \"rt\") as fin:\n",
    "            j = json.load(fin)\n",
    "        break"
   ]
  },
  {
   "cell_type": "code",
   "execution_count": null,
   "id": "comparative-contributor",
   "metadata": {},
   "outputs": [],
   "source": [
    "j"
   ]
  },
  {
   "cell_type": "code",
   "execution_count": null,
   "id": "present-lesbian",
   "metadata": {},
   "outputs": [],
   "source": [
    "index_to_text[index]"
   ]
  },
  {
   "cell_type": "markdown",
   "id": "constitutional-moscow",
   "metadata": {},
   "source": [
    "TODO:\n",
    "\n",
    "- remove episode ID\n",
    "- adjust text and tag positions\n",
    "- load into spacy\n",
    "- visualize for sanity checking"
   ]
  }
 ],
 "metadata": {
  "kernelspec": {
   "display_name": "Python 3",
   "language": "python",
   "name": "python3"
  },
  "language_info": {
   "codemirror_mode": {
    "name": "ipython",
    "version": 3
   },
   "file_extension": ".py",
   "mimetype": "text/x-python",
   "name": "python",
   "nbconvert_exporter": "python",
   "pygments_lexer": "ipython3",
   "version": "3.8.2"
  }
 },
 "nbformat": 4,
 "nbformat_minor": 5
}
